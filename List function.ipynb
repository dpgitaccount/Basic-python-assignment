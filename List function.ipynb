{
 "cells": [
  {
   "cell_type": "code",
   "execution_count": 1,
   "id": "8c81df69-b06b-405e-9755-bb3fc77676a2",
   "metadata": {},
   "outputs": [],
   "source": [
    "# Q1.\n",
    "# ANs-\n",
    "# To add an element to a list in Python, we can use the append() method or the insert()\n",
    "\n",
    "# syntax:-\n",
    "# append syntax-\n",
    "# L.append(new_element)\n",
    "\n",
    "# insert syntax-\n",
    "# L.insert(index, new_element)\n"
   ]
  },
  {
   "cell_type": "code",
   "execution_count": 2,
   "id": "784ccf75-0f13-4154-aec5-4ee02d52b7f8",
   "metadata": {},
   "outputs": [],
   "source": [
    "# Q2.\n",
    "# ANS-\n",
    "# Both remove() and pop() are functions in Python that can be used to remove elements from a list, but they differ in how they accomplish this and what they return.\n",
    "\n",
    "# The remove() method removes the first occurrence of a specified element from a list.\n",
    "# syntax:-\n",
    "# L.remove(element)\n",
    "\n",
    "\n",
    "# The pop() method removes the element at a specified index from a list and returns that element. \n",
    "# syntax:-\n",
    "\n",
    "# L.pop(index)\n"
   ]
  },
  {
   "cell_type": "code",
   "execution_count": 4,
   "id": "66273df7-6616-45ab-b1a4-c57c0c505c14",
   "metadata": {},
   "outputs": [
    {
     "name": "stdout",
     "output_type": "stream",
     "text": [
      "[12, 14, 23, 24, 36, 40, 76, 98]\n"
     ]
    }
   ],
   "source": [
    "# Q3.\n",
    "# ANS-\n",
    "# L = [12,24,36,76,98,23,14,40]\n",
    "# L.sort()\n",
    "# print(L)"
   ]
  },
  {
   "cell_type": "code",
   "execution_count": 9,
   "id": "dce678fc-9328-4000-9c9a-fc49ea82e0e2",
   "metadata": {},
   "outputs": [
    {
     "name": "stdout",
     "output_type": "stream",
     "text": [
      "4\n"
     ]
    }
   ],
   "source": [
    "# Q4.\n",
    "# ANS-\n",
    "# L = [12,24,36,76,98,23,14,40,12,87,98,90,12,56,43,12]\n",
    "# count = L.count(12)\n",
    "# print(count)"
   ]
  },
  {
   "cell_type": "code",
   "execution_count": null,
   "id": "9cd186f2-f8f0-4e59-8b01-f5054ad22090",
   "metadata": {},
   "outputs": [],
   "source": [
    "Q5.\n",
    "ANS-\n",
    "L = [12,24,36,76,98,23,14,40,12,87,98,90,12,56,43,12]\n",
    "L[::-1]"
   ]
  }
 ],
 "metadata": {
  "kernelspec": {
   "display_name": "Python 3 (ipykernel)",
   "language": "python",
   "name": "python3"
  },
  "language_info": {
   "codemirror_mode": {
    "name": "ipython",
    "version": 3
   },
   "file_extension": ".py",
   "mimetype": "text/x-python",
   "name": "python",
   "nbconvert_exporter": "python",
   "pygments_lexer": "ipython3",
   "version": "3.10.6"
  }
 },
 "nbformat": 4,
 "nbformat_minor": 5
}
