{
 "cells": [
  {
   "cell_type": "code",
   "execution_count": 1,
   "id": "3cc6e121-1444-47b3-b0ec-87fae052dd04",
   "metadata": {},
   "outputs": [],
   "source": [
    "s = 'prakash'"
   ]
  },
  {
   "cell_type": "code",
   "execution_count": 2,
   "id": "ee25bce0-ef7a-4081-8895-12922cc4def5",
   "metadata": {},
   "outputs": [
    {
     "name": "stdout",
     "output_type": "stream",
     "text": [
      "prakash\n"
     ]
    }
   ],
   "source": [
    "print(s)"
   ]
  },
  {
   "cell_type": "code",
   "execution_count": 3,
   "id": "bde87134-4ea1-48f0-a287-c41297a36232",
   "metadata": {},
   "outputs": [
    {
     "data": {
      "text/plain": [
       "str"
      ]
     },
     "execution_count": 3,
     "metadata": {},
     "output_type": "execute_result"
    }
   ],
   "source": [
    "type(s)"
   ]
  },
  {
   "cell_type": "code",
   "execution_count": 2,
   "id": "f77a6628-5bc9-4d5e-99d7-7d7aa276cf74",
   "metadata": {},
   "outputs": [],
   "source": [
    "s1 = \"this is my first string which is inbuilt in the python\""
   ]
  },
  {
   "cell_type": "code",
   "execution_count": 3,
   "id": "ec2d55c5-48d2-4478-8790-a783eb51cc67",
   "metadata": {},
   "outputs": [
    {
     "name": "stdout",
     "output_type": "stream",
     "text": [
      "<class 'str'>\n"
     ]
    }
   ],
   "source": [
    "print(type(s1))"
   ]
  },
  {
   "cell_type": "code",
   "execution_count": 4,
   "id": "1cd5cc1f-3680-4359-aecb-7808af577cfe",
   "metadata": {},
   "outputs": [
    {
     "data": {
      "text/plain": [
       "'this is my first string which is inbuilt in the python'"
      ]
     },
     "execution_count": 4,
     "metadata": {},
     "output_type": "execute_result"
    }
   ],
   "source": [
    "s1"
   ]
  },
  {
   "cell_type": "code",
   "execution_count": 5,
   "id": "99437eff-989b-4517-8be4-2d1cfb8cc2d2",
   "metadata": {},
   "outputs": [
    {
     "data": {
      "text/plain": [
       "54"
      ]
     },
     "execution_count": 5,
     "metadata": {},
     "output_type": "execute_result"
    }
   ],
   "source": [
    "len(s1)"
   ]
  },
  {
   "cell_type": "code",
   "execution_count": 7,
   "id": "a087e99b-1865-4152-8361-b783c2dc24d0",
   "metadata": {},
   "outputs": [
    {
     "data": {
      "text/plain": [
       "3"
      ]
     },
     "execution_count": 7,
     "metadata": {},
     "output_type": "execute_result"
    }
   ],
   "source": [
    "s1.find('s')"
   ]
  },
  {
   "cell_type": "code",
   "execution_count": 9,
   "id": "b712728c-c0c5-4125-bbb9-4f0dbd878ade",
   "metadata": {},
   "outputs": [
    {
     "data": {
      "text/plain": [
       "-1"
      ]
     },
     "execution_count": 9,
     "metadata": {},
     "output_type": "execute_result"
    }
   ],
   "source": [
    "s1.find('-S') # return -1 when failure"
   ]
  },
  {
   "cell_type": "code",
   "execution_count": 10,
   "id": "6fbeadbb-c184-4fb7-bc6e-146736332d68",
   "metadata": {},
   "outputs": [],
   "source": [
    "s2 = 'divya prakash'"
   ]
  },
  {
   "cell_type": "code",
   "execution_count": 12,
   "id": "b2a465f1-ba3f-4763-97e5-8c8e7dccee06",
   "metadata": {},
   "outputs": [
    {
     "data": {
      "text/plain": [
       "4"
      ]
     },
     "execution_count": 12,
     "metadata": {},
     "output_type": "execute_result"
    }
   ],
   "source": [
    "s2.find('a')"
   ]
  },
  {
   "cell_type": "code",
   "execution_count": 15,
   "id": "3a8c6d65-228a-4939-afe0-4c500b7479e3",
   "metadata": {},
   "outputs": [
    {
     "data": {
      "text/plain": [
       "9"
      ]
     },
     "execution_count": 15,
     "metadata": {},
     "output_type": "execute_result"
    }
   ],
   "source": [
    "s2.find('ka')"
   ]
  },
  {
   "cell_type": "code",
   "execution_count": 19,
   "id": "7d09694a-f030-4130-8244-d7cbf2064574",
   "metadata": {},
   "outputs": [
    {
     "data": {
      "text/plain": [
       "3"
      ]
     },
     "execution_count": 19,
     "metadata": {},
     "output_type": "execute_result"
    }
   ],
   "source": [
    "s2.count('a') # count is used for return the number of non overlapping of substring of string"
   ]
  },
  {
   "cell_type": "code",
   "execution_count": 21,
   "id": "785d14c3-b96f-44de-b0a0-7e2f4fdf15a7",
   "metadata": {},
   "outputs": [
    {
     "data": {
      "text/plain": [
       "0"
      ]
     },
     "execution_count": 21,
     "metadata": {},
     "output_type": "execute_result"
    }
   ],
   "source": [
    "s2.count('l')"
   ]
  },
  {
   "cell_type": "code",
   "execution_count": 22,
   "id": "cb8e1988-3ee9-4793-9279-0433c08f4e79",
   "metadata": {},
   "outputs": [
    {
     "data": {
      "text/plain": [
       "'divya prakash'"
      ]
     },
     "execution_count": 22,
     "metadata": {},
     "output_type": "execute_result"
    }
   ],
   "source": [
    "s2"
   ]
  },
  {
   "cell_type": "code",
   "execution_count": 23,
   "id": "b8cf751a-7978-464c-bda6-f2e3016bbf03",
   "metadata": {},
   "outputs": [
    {
     "data": {
      "text/plain": [
       "'DIVYA PRAKASH'"
      ]
     },
     "execution_count": 23,
     "metadata": {},
     "output_type": "execute_result"
    }
   ],
   "source": [
    "# it is used for convert the data in upper case\n",
    "s2.upper()"
   ]
  },
  {
   "cell_type": "code",
   "execution_count": 24,
   "id": "33a77828-fb82-4181-a51e-626082a562b7",
   "metadata": {},
   "outputs": [],
   "source": [
    "# it is used for convert the data in lowercase\n",
    "s3 = \"PrakashRavi\""
   ]
  },
  {
   "cell_type": "code",
   "execution_count": 25,
   "id": "99703fd4-e7b5-4568-9c00-c3e9ef518506",
   "metadata": {},
   "outputs": [
    {
     "data": {
      "text/plain": [
       "'prakashravi'"
      ]
     },
     "execution_count": 25,
     "metadata": {},
     "output_type": "execute_result"
    }
   ],
   "source": [
    "s3.lower()"
   ]
  },
  {
   "cell_type": "code",
   "execution_count": 26,
   "id": "c34095c7-4d41-4e61-b76f-0daa985bc4e1",
   "metadata": {},
   "outputs": [
    {
     "data": {
      "text/plain": [
       "'PrakashRavi'"
      ]
     },
     "execution_count": 26,
     "metadata": {},
     "output_type": "execute_result"
    }
   ],
   "source": [
    "s3"
   ]
  },
  {
   "cell_type": "code",
   "execution_count": 27,
   "id": "b150ffe8-02ed-4743-a4eb-cdd64cabf373",
   "metadata": {},
   "outputs": [],
   "source": [
    "s3 = s3.lower() # used for permanent changes"
   ]
  },
  {
   "cell_type": "code",
   "execution_count": 28,
   "id": "f18a0fe8-bcc8-4a3d-bf59-bcf63087dd8a",
   "metadata": {},
   "outputs": [
    {
     "data": {
      "text/plain": [
       "'prakashravi'"
      ]
     },
     "execution_count": 28,
     "metadata": {},
     "output_type": "execute_result"
    }
   ],
   "source": [
    "s3"
   ]
  },
  {
   "cell_type": "code",
   "execution_count": 29,
   "id": "8049d12c-9898-4b49-92f6-671120ca52b8",
   "metadata": {},
   "outputs": [
    {
     "data": {
      "text/plain": [
       "'PRAKASHRAVI'"
      ]
     },
     "execution_count": 29,
     "metadata": {},
     "output_type": "execute_result"
    }
   ],
   "source": [
    "# it is used for swapping the data to upper to lower and lower to upper\n",
    "s3.swapcase()"
   ]
  },
  {
   "cell_type": "code",
   "execution_count": 31,
   "id": "96e5e27d-c24f-4b3e-9954-1831fc87d1d8",
   "metadata": {},
   "outputs": [
    {
     "data": {
      "text/plain": [
       "'Prakashravi'"
      ]
     },
     "execution_count": 31,
     "metadata": {},
     "output_type": "execute_result"
    }
   ],
   "source": [
    "# it is used for give the title in firt digit of every data in title\n",
    "s3.title()"
   ]
  },
  {
   "cell_type": "code",
   "execution_count": 32,
   "id": "10cc161a-67b4-450d-bfa3-d94676e52c47",
   "metadata": {},
   "outputs": [
    {
     "data": {
      "text/plain": [
       "'this is my first string which is inbuilt in the python'"
      ]
     },
     "execution_count": 32,
     "metadata": {},
     "output_type": "execute_result"
    }
   ],
   "source": [
    "s1"
   ]
  },
  {
   "cell_type": "code",
   "execution_count": 34,
   "id": "a5491f7e-dbcc-490e-9a86-9ca648616348",
   "metadata": {},
   "outputs": [
    {
     "data": {
      "text/plain": [
       "'This Is My First String Which Is Inbuilt In The Python'"
      ]
     },
     "execution_count": 34,
     "metadata": {},
     "output_type": "execute_result"
    }
   ],
   "source": [
    "s1.title()"
   ]
  },
  {
   "cell_type": "code",
   "execution_count": 35,
   "id": "f19a23c4-bde8-400b-9c0f-e8906ad28980",
   "metadata": {},
   "outputs": [
    {
     "data": {
      "text/plain": [
       "'This is my first string which is inbuilt in the python'"
      ]
     },
     "execution_count": 35,
     "metadata": {},
     "output_type": "execute_result"
    }
   ],
   "source": [
    "# it is capitalize the only  first data in capital\n",
    "s1.capitalize()"
   ]
  },
  {
   "cell_type": "code",
   "execution_count": null,
   "id": "1da39eaf-551d-4e3b-bb92-bc590769f5a4",
   "metadata": {},
   "outputs": [],
   "source": []
  }
 ],
 "metadata": {
  "kernelspec": {
   "display_name": "Python 3 (ipykernel)",
   "language": "python",
   "name": "python3"
  },
  "language_info": {
   "codemirror_mode": {
    "name": "ipython",
    "version": 3
   },
   "file_extension": ".py",
   "mimetype": "text/x-python",
   "name": "python",
   "nbconvert_exporter": "python",
   "pygments_lexer": "ipython3",
   "version": "3.10.6"
  }
 },
 "nbformat": 4,
 "nbformat_minor": 5
}
