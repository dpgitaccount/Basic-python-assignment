{
 "cells": [
  {
   "cell_type": "code",
   "execution_count": 1,
   "id": "0a169353-1897-4b6d-a283-edd3f3eb92c0",
   "metadata": {},
   "outputs": [],
   "source": [
    "# Q1. What is a set in Python?\n",
    "# Ans-\n",
    "# In Python, a set is an unordered collection of unique elements. The elements in a set can be of any data type, such as integers, floats, strings, and even other sets. However, since sets are unordered, they do not support indexing and slicing operations.\n",
    "\n",
    "# In Python, sets are defined using curly braces { } or the set() function. \n",
    "\n",
    "# example-\n",
    "# my_set = {1, 2, 3, 4, 5}\n",
    "\n"
   ]
  },
  {
   "cell_type": "code",
   "execution_count": 4,
   "id": "d9275161-c508-4c33-8581-fe98eac1e3f4",
   "metadata": {},
   "outputs": [
    {
     "name": "stdout",
     "output_type": "stream",
     "text": [
      "{1, 2, 3, 4, 5}\n",
      "{'orange', 'apple', 'banana'}\n"
     ]
    }
   ],
   "source": [
    "# Q2.How do you create a set in Python?\n",
    "# ANs-\n",
    "# In Python, there are two ways to create a set:-\n",
    "\n",
    "# 1.Using curly braces { }:-\n",
    "# we can create a set by enclosing a comma-separated sequence of elements within curly braces.\n",
    "# example-\n",
    "# s1 = {12,24,\"Prakash\",prakash,\"ravi\"}\n",
    "\n",
    "# 2.Using the set() function:\n",
    "# You can also create a set using the built-in set() function. The set() function can take any iterable object as its argument, such as a list or a tuple.\n",
    "# example-\n",
    "# creating a set from a list of integers\n",
    "# my_list = [1, 2, 3, 4, 5]\n",
    "# my_set = set(my_list)\n",
    "# print(my_set)\n",
    "# # creating a set from a tuple of strings\n",
    "# my_tuple = ('apple', 'banana', 'orange')\n",
    "# my_set = set(my_tuple)\n",
    "# print(my_set)"
   ]
  },
  {
   "cell_type": "code",
   "execution_count": 6,
   "id": "5a233310-4917-4b2e-acd1-3186dc4d092c",
   "metadata": {},
   "outputs": [],
   "source": [
    "# Q3. How do you add elements to a set in Python?\n",
    "# Ans- using set.add function we can add any element in the set.\n",
    "\n",
    "# s1 = {12,24,\"Prakash\",\"prakash\",\"ravi\"}\n",
    "# s1.add(\"2000\")"
   ]
  },
  {
   "cell_type": "code",
   "execution_count": 7,
   "id": "4317edd8-9acf-48a8-aeb7-4320fc6b3996",
   "metadata": {},
   "outputs": [
    {
     "data": {
      "text/plain": [
       "{12, '2000', 24, 'Prakash', 'prakash', 'ravi'}"
      ]
     },
     "execution_count": 7,
     "metadata": {},
     "output_type": "execute_result"
    }
   ],
   "source": [
    "s1"
   ]
  },
  {
   "cell_type": "code",
   "execution_count": 8,
   "id": "f2639b90-7b27-4b80-9bc2-3c49b65230a7",
   "metadata": {},
   "outputs": [],
   "source": [
    "# Q4.How do you remove elements from a set in Python?\n",
    "# Ans- we can remove item from set using remove(),pop(),discard() function\n",
    "# s1 = {12,24,\"Prakash\",\"prakash\",\"ravi\"}\n",
    "# s1.remove(\"prakash\")"
   ]
  },
  {
   "cell_type": "code",
   "execution_count": 9,
   "id": "8112003b-6b95-40b0-bd55-a6e7365a7f6e",
   "metadata": {},
   "outputs": [
    {
     "data": {
      "text/plain": [
       "{12, 24, 'Prakash', 'ravi'}"
      ]
     },
     "execution_count": 9,
     "metadata": {},
     "output_type": "execute_result"
    }
   ],
   "source": [
    "s1"
   ]
  },
  {
   "cell_type": "code",
   "execution_count": 10,
   "id": "a136cfca-a243-4d76-880d-f30e64154651",
   "metadata": {},
   "outputs": [],
   "source": [
    "# Q5. How do you get the length of a set in Python?\n",
    "# ANS-\n",
    "# we can get the length of a set in Python using the built-in len() function. The len() function returns the number of elements in the set.\n",
    "\n",
    "# example-\n",
    "s1 = {12,24,\"Prakash\",\"prakash\",\"ravi\"}\n"
   ]
  },
  {
   "cell_type": "code",
   "execution_count": 11,
   "id": "96e9f41f-26a0-4ceb-91b8-d527883a1677",
   "metadata": {},
   "outputs": [
    {
     "data": {
      "text/plain": [
       "5"
      ]
     },
     "execution_count": 11,
     "metadata": {},
     "output_type": "execute_result"
    }
   ],
   "source": [
    "len(s1)"
   ]
  },
  {
   "cell_type": "code",
   "execution_count": null,
   "id": "84d4d584-5391-4014-b4c5-0d7f10f5c6bb",
   "metadata": {},
   "outputs": [],
   "source": [
    "\n",
    "\n"
   ]
  }
 ],
 "metadata": {
  "kernelspec": {
   "display_name": "Python 3 (ipykernel)",
   "language": "python",
   "name": "python3"
  },
  "language_info": {
   "codemirror_mode": {
    "name": "ipython",
    "version": 3
   },
   "file_extension": ".py",
   "mimetype": "text/x-python",
   "name": "python",
   "nbconvert_exporter": "python",
   "pygments_lexer": "ipython3",
   "version": "3.10.6"
  }
 },
 "nbformat": 4,
 "nbformat_minor": 5
}
