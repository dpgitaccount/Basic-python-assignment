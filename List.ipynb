{
 "cells": [
  {
   "cell_type": "code",
   "execution_count": 3,
   "id": "de919f81-a81f-49af-9f4d-a55c3ac6a0a4",
   "metadata": {},
   "outputs": [],
   "source": [
    "# Q1.\n",
    "# ANS-\n",
    "# my_list = []\n"
   ]
  },
  {
   "cell_type": "code",
   "execution_count": 7,
   "id": "8aed29fc-d07a-409a-a7c7-9d8c9ed180dd",
   "metadata": {},
   "outputs": [
    {
     "name": "stdout",
     "output_type": "stream",
     "text": [
      "[1, 2, 3, 8, 9, 4, 5, 6, 7]\n"
     ]
    }
   ],
   "source": [
    "# # Q2.\n",
    "# # ANS-\n",
    "# l1 = [1,2,3,8,9,4,5,6]\n",
    "# l1.append(7)\n",
    "# print(l1)"
   ]
  },
  {
   "cell_type": "code",
   "execution_count": 8,
   "id": "ae66c95e-bb6b-4de5-a9be-0ad2d33eced8",
   "metadata": {},
   "outputs": [
    {
     "name": "stdout",
     "output_type": "stream",
     "text": [
      "6\n"
     ]
    }
   ],
   "source": [
    "# Q3.\n",
    "# ANS-\n",
    "# l1 = [1,2,3,8,9,4,5,6]\n",
    "# print(l1[-1])"
   ]
  },
  {
   "cell_type": "code",
   "execution_count": 9,
   "id": "363fdda7-1f1c-4852-a5ee-51d5728617eb",
   "metadata": {},
   "outputs": [
    {
     "name": "stdout",
     "output_type": "stream",
     "text": [
      "[6, 5, 4, 9, 8, 3, 2, 1]\n"
     ]
    }
   ],
   "source": [
    "# Q4.\n",
    "# ANS-\n",
    "# l1 = [1,2,3,8,9,4,5,6]\n",
    "# print(l1[::-1])"
   ]
  },
  {
   "cell_type": "code",
   "execution_count": 12,
   "id": "491849b9-1bc4-4749-9913-891a73d54dbb",
   "metadata": {},
   "outputs": [
    {
     "name": "stdout",
     "output_type": "stream",
     "text": [
      "[1, 2, 3, 4, 5, 6, 8, 9]\n"
     ]
    }
   ],
   "source": [
    "# Q5.\n",
    "# ANS-\n",
    "# l1 = [1, 2, 3, 8, 9, 4, 5, 6]\n",
    "# l1.sort()\n",
    "# print(l1)\n"
   ]
  },
  {
   "cell_type": "code",
   "execution_count": 13,
   "id": "330ae8bd-3948-43a1-830e-096aee513578",
   "metadata": {},
   "outputs": [
    {
     "name": "stdout",
     "output_type": "stream",
     "text": [
      "Uri the surgical attack\n"
     ]
    }
   ],
   "source": [
    "# Q6.\n",
    "# ANS-\n",
    "# my_favorite_movies = [\"Avengers\",\"Uri the surgical attack\", \"Shiddat\"]\n",
    "# print(my_favorite_movies[1])"
   ]
  },
  {
   "cell_type": "code",
   "execution_count": 15,
   "id": "e699b71a-3b1f-4f13-9296-341faf7064a1",
   "metadata": {},
   "outputs": [
    {
     "name": "stdout",
     "output_type": "stream",
     "text": [
      "['Dog', 'Cow', 'Rabbit', 'Lion']\n"
     ]
    }
   ],
   "source": [
    "# Q7.\n",
    "# ANS-\n",
    "# my_favorite_animals = [\"Dog\", \"Cow\", \"Rabbit\"]\n",
    "# my_favorite_animals.append(\"Lion\")\n",
    "# print(my_favorite_animals)"
   ]
  },
  {
   "cell_type": "code",
   "execution_count": 18,
   "id": "9cc1c249-2f50-42bf-8f71-69a6b15587d1",
   "metadata": {},
   "outputs": [
    {
     "name": "stdout",
     "output_type": "stream",
     "text": [
      "The city index of Delhi is:  1\n"
     ]
    }
   ],
   "source": [
    "# Q7.\n",
    "# ANS-\n",
    "my_favorite_cities = [\"Torronto\",\"Delhi\", \"california\", \"Tokyo\", \"Londo\", \"Moscow\"]\n",
    "city_index = my_favorite_cities.index(\"Delhi\")\n",
    "print(\"The city index of Delhi is: \", city_index)"
   ]
  },
  {
   "cell_type": "code",
   "execution_count": null,
   "id": "faf8be0e-e80c-49e6-b9f8-ffe83e95f142",
   "metadata": {},
   "outputs": [],
   "source": []
  }
 ],
 "metadata": {
  "kernelspec": {
   "display_name": "Python 3 (ipykernel)",
   "language": "python",
   "name": "python3"
  },
  "language_info": {
   "codemirror_mode": {
    "name": "ipython",
    "version": 3
   },
   "file_extension": ".py",
   "mimetype": "text/x-python",
   "name": "python",
   "nbconvert_exporter": "python",
   "pygments_lexer": "ipython3",
   "version": "3.10.6"
  }
 },
 "nbformat": 4,
 "nbformat_minor": 5
}
