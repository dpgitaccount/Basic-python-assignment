{
 "cells": [
  {
   "cell_type": "code",
   "execution_count": null,
   "id": "22d91342-6d18-45d3-b810-a295e783853a",
   "metadata": {},
   "outputs": [],
   "source": [
    "# Q1.\n",
    "# ANS-\n",
    "# When declaring a variable, there are several conventions that programmers typically follow to make their code more readable and maintainable. These conventions may vary depending on the programming language or the specific coding style being used, but some common conventions include:\n",
    "\n",
    "# 1. Use descriptive and meaningful names: Choose a name that describes the purpose of the variable. Avoid using single letters or abbreviations that are hard to understand.\n",
    "\n",
    "# 2. Use camelCase or snake_case: CamelCase is where the first letter of each word is capitalized except for the first word, while snake_case is where each word is separated by an underscore. Choose one style and stick to it throughout your code.\n",
    " \n",
    "# 3. Use lowercase for variable names: In most programming languages, variable names are case-sensitive. Using all lowercase letters for variable names makes them easier to distinguish from class names and other identifiers.\n",
    "\n",
    "# 4. Use nouns for variable names: Variables should be named after the data they hold. Use nouns rather than verbs, adjectives, or adverbs.\n",
    "\n",
    "# 5. Use constants for values that do not change: If a value does not change throughout the program, declare it as a constant using uppercase letters with underscores between words.\n",
    "\n",
    "# 6. Initialize variables before use: Always initialize a variable before using it to prevent errors and unexpected behavior.\n",
    "\n",
    "# 7. Use meaningful data types: Choose data types that accurately represent the values a variable will hold. Avoid using generic data types like \"Object\" or \"Variant\" unless necessary.\n",
    "\n",
    "# 8. Declare variables close to their first use: Declare variables in the smallest possible scope where they are needed. This helps to reduce clutter and makes it easier to understand the flow of the code.\n",
    "\n",
    "# 9. Use a consistent naming convention across the project: If you are working on a team, make sure everyone follows the same naming convention. This makes it easier to read and understand each other's code."
   ]
  },
  {
   "cell_type": "code",
   "execution_count": null,
   "id": "df33b53b-f953-42cd-a30f-3ad78631a51f",
   "metadata": {},
   "outputs": [],
   "source": [
    "# Q2.\n",
    "# ANS-\n",
    "# If we have  attempt to declare a restricted keyword as a variable in a programming language, we will likely encounter a syntax error or a compilation error, depending on the language.\n",
    "\n",
    "# Restricted keywords are reserved by the programming language for specific purposes such as defining control structures, operators, data types, and other language-specific constructs. These keywords cannot be used as identifiers for variables, functions, or classes, as they already have a predefined meaning within the language.\n",
    "\n",
    "# For example, if you try to declare a variable named \"if\" in many programming languages such as Java, Python, or C++, you will receive a syntax error, because \"if\" is a reserved keyword used for conditional statements. Similarly, \"while\", \"for\", \"int\", \"double\", \"float\", and \"class\" are other examples of restricted keywords in different programming languages.\n",
    "\n",
    "# Therefore, it's important to avoid using restricted keywords as variable names or other identifiers in your code to prevent errors and ensure that your code follows the syntax rules of the programming language. Instead, use descriptive names that reflect the purpose of the variable to improve the readability and maintainability of your code."
   ]
  },
  {
   "cell_type": "code",
   "execution_count": null,
   "id": "aee1b017-8639-4aa7-8c0b-f3f2d9faacbe",
   "metadata": {},
   "outputs": [],
   "source": [
    "# Q3.\n",
    "# ANS-\n",
    "# such as Python and JavaScript, allow strings to be used as variable names using a technique called dynamic variable naming. In these languages, you can use a string value as a variable name by enclosing the string in square brackets after the variable declaration or using the eval() function.\n",
    "\n",
    "# example - \n",
    "# name = \"my_variable\"\n",
    "# globals()[name] = 10\n",
    "# print(my_variable) # output: 10\n"
   ]
  },
  {
   "cell_type": "code",
   "execution_count": null,
   "id": "96ed2ef3-3f6d-41d9-b9ce-59d0256fd300",
   "metadata": {},
   "outputs": [],
   "source": [
    "# Q4.\n",
    "# ANS-\n",
    "# Yes, it is possible to declare a variable using an underscore (_) as its name in many programming languages. In fact, the underscore is often used in variable names to separate words, especially in languages like Python where spaces are not allowed in variable names.\n",
    "\n",
    "# example-\n",
    "# _ = 10\n",
    "# print(_) \n",
    "# # output: 10\n"
   ]
  },
  {
   "cell_type": "code",
   "execution_count": null,
   "id": "241548a3-94da-4005-b040-476ef85129fa",
   "metadata": {},
   "outputs": [],
   "source": [
    "# Q5.\n",
    "# ANS-\n",
    "# Python variables are dynamic in nature, which means that they can change their data type or value during the program's execution. This is different from statically typed languages like C++ or Java, where variables must be explicitly declared with a specific data type and cannot be changed during runtime.\n",
    "\n",
    "# example-\n",
    "# # x is an integer\n",
    "# x = 5    \n",
    "# print(type(x))   \n",
    "# # output: <class 'int'>\n",
    "\n",
    "# # x is now a string\n",
    "# x = \"Hello\"   \n",
    "# print(type(x))   \n",
    "# # output: <class 'str'>\n",
    "\n",
    "# # x is now a list\n",
    "# x = [1, 2, 3]   \n",
    "# print(type(x))  \n",
    "#  # output: <class 'list'>\n"
   ]
  },
  {
   "cell_type": "code",
   "execution_count": null,
   "id": "24b2e5ab-ed87-4fe6-ac95-91cf55699028",
   "metadata": {},
   "outputs": [],
   "source": []
  }
 ],
 "metadata": {
  "kernelspec": {
   "display_name": "Python 3 (ipykernel)",
   "language": "python",
   "name": "python3"
  },
  "language_info": {
   "codemirror_mode": {
    "name": "ipython",
    "version": 3
   },
   "file_extension": ".py",
   "mimetype": "text/x-python",
   "name": "python",
   "nbconvert_exporter": "python",
   "pygments_lexer": "ipython3",
   "version": "3.10.6"
  }
 },
 "nbformat": 4,
 "nbformat_minor": 5
}
