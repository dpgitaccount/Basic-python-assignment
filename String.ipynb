{
 "cells": [
  {
   "cell_type": "code",
   "execution_count": 1,
   "id": "18e5e9e2-feab-41ad-bf48-68caaae07bf4",
   "metadata": {},
   "outputs": [],
   "source": [
    "# Q1.\n",
    "# ANS-\n",
    "#A single quote is not used where there is already a quoted string. So you can overcome this issue by using a backslash following the single quote\n",
    "# To store a single quote character in a string variable, we can use different approaches depending on the programming language we are working with.\n",
    "# in python .\n",
    "# example-\n",
    "# my_str = \"Here's a single quote: '\"\n"
   ]
  },
  {
   "cell_type": "code",
   "execution_count": 2,
   "id": "982b62c3-dad6-445d-a077-9406003ea256",
   "metadata": {},
   "outputs": [],
   "source": [
    "\n",
    "# Q2.\n",
    "# ANS-\n",
    "# Based on the value assigned to the variable x, it is not clear whether it is a character type or a string type variable. However, the answer may depend on the programming language being used.\n",
    "# In some programming languages like Python, a single character can be assigned to a variable of type char. In this case, if x is declared as a char variable, then a( would be considered a single character.\n",
    "# However, in most high-level programming languages like Python, a string is denoted using quotes (either single or double quotes). Therefore, if x is declared as a string variable, then the value 'a(' would be considered a string.\n",
    "\n",
    "# example -\n",
    "# x = 'a('\n",
    "# print(type(x))\n"
   ]
  },
  {
   "cell_type": "code",
   "execution_count": 14,
   "id": "3e906073-2ccf-487e-a46c-f7d285f33e5e",
   "metadata": {},
   "outputs": [],
   "source": [
    "# # Q3.\n",
    "# # ANs-\n",
    "# s = 'Welcome to Python foundation course'\n"
   ]
  },
  {
   "cell_type": "code",
   "execution_count": 16,
   "id": "0a6a2538-9363-40a6-9921-8c679f52fba6",
   "metadata": {},
   "outputs": [
    {
     "data": {
      "text/plain": [
       "0"
      ]
     },
     "execution_count": 16,
     "metadata": {},
     "output_type": "execute_result"
    }
   ],
   "source": [
    "# s.find('W')"
   ]
  },
  {
   "cell_type": "code",
   "execution_count": 17,
   "id": "0e01d8d0-ce34-476c-8765-815aa6dea054",
   "metadata": {},
   "outputs": [
    {
     "data": {
      "text/plain": [
       "6"
      ]
     },
     "execution_count": 17,
     "metadata": {},
     "output_type": "execute_result"
    }
   ],
   "source": [
    "# s.count('o')"
   ]
  },
  {
   "cell_type": "code",
   "execution_count": 18,
   "id": "555ddf27-a789-4975-bec1-53bee3657663",
   "metadata": {},
   "outputs": [
    {
     "data": {
      "text/plain": [
       "35"
      ]
     },
     "execution_count": 18,
     "metadata": {},
     "output_type": "execute_result"
    }
   ],
   "source": [
    "# len(s)"
   ]
  },
  {
   "cell_type": "code",
   "execution_count": 27,
   "id": "b935d191-6b4e-4f2d-aacf-a243815af69f",
   "metadata": {},
   "outputs": [
    {
     "name": "stdout",
     "output_type": "stream",
     "text": [
      "Welcome to python foundation courseThis course is best which is make by Pwskills\n"
     ]
    }
   ],
   "source": [
    "# s = 'Welcome to python foundation course'\n",
    "# s1 = 'This course is best which is make by Pwskills'\n",
    "# string = s+s1\n",
    "# print(string)\n",
    "\n",
    "\n"
   ]
  },
  {
   "cell_type": "code",
   "execution_count": 29,
   "id": "fb8b546c-2682-4659-a6b4-2a0fe20db7d0",
   "metadata": {},
   "outputs": [],
   "source": [
    "# Q4.\n",
    "# ANS-\n",
    "# word = 'PanaJ1@12256'\n"
   ]
  },
  {
   "cell_type": "code",
   "execution_count": 30,
   "id": "6cf2b95f-86e5-4aed-aeb5-a49a4e8c6f1f",
   "metadata": {},
   "outputs": [
    {
     "data": {
      "text/plain": [
       "'panaj1@12256'"
      ]
     },
     "execution_count": 30,
     "metadata": {},
     "output_type": "execute_result"
    }
   ],
   "source": [
    "# word.lower()"
   ]
  },
  {
   "cell_type": "code",
   "execution_count": 32,
   "id": "4530a3ea-374a-4791-a72b-7ebdc295c1ab",
   "metadata": {},
   "outputs": [
    {
     "data": {
      "text/plain": [
       "'PANAJ1@12256'"
      ]
     },
     "execution_count": 32,
     "metadata": {},
     "output_type": "execute_result"
    }
   ],
   "source": [
    "# word.upper()"
   ]
  },
  {
   "cell_type": "code",
   "execution_count": 33,
   "id": "2e45cd38-0aea-4097-bf16-8560aeba02a9",
   "metadata": {},
   "outputs": [
    {
     "name": "stdout",
     "output_type": "stream",
     "text": [
      "Total number of numerical characters in the string: 6\n"
     ]
    }
   ],
   "source": [
    "# word = 'PanaJ1@12256'\n",
    "# num_count = 0\n",
    "# for char in word:\n",
    "#     if char.isdigit():\n",
    "#         num_count += 1\n",
    "# print(\"Total number of numerical characters in the string:\", num_count)\n"
   ]
  },
  {
   "cell_type": "code",
   "execution_count": 37,
   "id": "03242be4-c830-49a7-a47b-460b47b4019a",
   "metadata": {},
   "outputs": [],
   "source": [
    "# Q5.\n",
    "# ANS-\n",
    "# num = 42\n",
    "# num_str = str(num)\n",
    "# print(\"The numerical value is:\", num)\n",
    "# print(\"The string value is:\", num_str)\n"
   ]
  },
  {
   "cell_type": "code",
   "execution_count": null,
   "id": "07735c08-d42b-4e75-ba72-613551863d42",
   "metadata": {},
   "outputs": [],
   "source": []
  }
 ],
 "metadata": {
  "kernelspec": {
   "display_name": "Python 3 (ipykernel)",
   "language": "python",
   "name": "python3"
  },
  "language_info": {
   "codemirror_mode": {
    "name": "ipython",
    "version": 3
   },
   "file_extension": ".py",
   "mimetype": "text/x-python",
   "name": "python",
   "nbconvert_exporter": "python",
   "pygments_lexer": "ipython3",
   "version": "3.10.6"
  }
 },
 "nbformat": 4,
 "nbformat_minor": 5
}
