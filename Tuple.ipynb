{
 "cells": [
  {
   "cell_type": "code",
   "execution_count": 8,
   "id": "9738d2bf-a02a-46bd-8f2e-6fd45463e329",
   "metadata": {},
   "outputs": [],
   "source": [
    "# Q1.\n",
    "# ANS-\n",
    "# Tuple is one of 4 built-in data types in Python used to store collections of data,\n",
    "# Tuple is an ordered collection of data with elements separeted by a common and enclosed within paranthesis.\n",
    "# Tuple can not be changed becouse it is immutable in nature"
   ]
  },
  {
   "cell_type": "code",
   "execution_count": 9,
   "id": "d7d83522-1ac9-4901-916e-b98224acb081",
   "metadata": {},
   "outputs": [],
   "source": [
    "# Q2.\n",
    "# ANS-\n",
    "# We can create a tuple in python using paranthesis or simple small bracket.\n",
    "\n",
    "# example-\n",
    "# t = (1,2,3,4,5,12.5,15.8,\"Pwskills\",\"Prakash\",5+7j)"
   ]
  },
  {
   "cell_type": "code",
   "execution_count": 10,
   "id": "1f2cd996-d0f1-4e7a-bb56-c0d3a0f24d55",
   "metadata": {},
   "outputs": [],
   "source": [
    "# Q3.\n",
    "# ANS-\n",
    "# Mutability:- A tuple is immutable, we cannot modify its contents after it's created. and ist, on the other hand, is mutable, we can add, remove, or modify its elements.\n",
    "\n",
    "# Syntax:- A tuple is created using parentheses () while a list is created using square brackets [].\n",
    "\n",
    "# Usage: Tuples are often used to store a fixed collection of values, such as coordinates or the components of a date (year, month, day). Lists are often used to store collections of values that may change over time, such as a list of items in a shopping cart or a list of search results.\n",
    "\n",
    "# example-\n",
    "# my_tuple = (1, 2, 3)\n",
    "# my_list = [1, 2, 3]\n",
    "\n",
    "# # This will raise a TypeError: 'tuple' object does not support item assignment\n",
    "# my_tuple[0] = 4\n",
    "# # This will modify the first element of the list to 4\n",
    "# my_list[0] = 4  \n",
    "# # This will add a new element to the end of the list\n",
    "# my_list.append(4)  "
   ]
  },
  {
   "cell_type": "code",
   "execution_count": 11,
   "id": "80b9479b-5b53-4515-b283-a969228c9641",
   "metadata": {},
   "outputs": [],
   "source": [
    "# Q4.\n",
    "# ANS-\n",
    "# No, a tuple cannot be changed in Python. Tuples are immutable, which means you cannot modify their contents after they are created. Once you create a tuple, you cannot add, remove, or modify any elements in it."
   ]
  },
  {
   "cell_type": "code",
   "execution_count": 12,
   "id": "98d12ce1-ee69-4a6f-9d79-df5c1773175f",
   "metadata": {},
   "outputs": [],
   "source": [
    "# Q5.\n",
    "# ANS-\n",
    "# You can access elements in a tuple in Python by using their index in [], which starts at 0 for the first element. To access an element in a tuple, you simply need to use the name of the tuple followed by the index of the element inside square brackets.\n",
    "\n",
    "# example-\n",
    "# my_tuple = ('apple', 'banana', 'cherry', 'orange')\n",
    "\n",
    "# print(my_tuple[0])  \n",
    "# print(my_tuple[1])   \n",
    "# print(my_tuple[-1]) \n"
   ]
  },
  {
   "cell_type": "code",
   "execution_count": 13,
   "id": "f609d9eb-e35c-4f43-9bd0-c28ce3208ca9",
   "metadata": {},
   "outputs": [],
   "source": [
    "# Q6.\n",
    "# ANS-\n",
    "# Unpacking a tuple in Python means assigning its values to separate variables. This can be done by assigning the tuple to the variables separated by commas. The number of variables must match the number of elements in the tuple.\n",
    "\n",
    "# example -\n",
    "# t1 = ('apple', 'banana', 'cherry')\n",
    "# a, b, c = t1\n",
    "# print(a)  \n",
    "# print(b) \n",
    "# print(c) \n"
   ]
  },
  {
   "cell_type": "code",
   "execution_count": null,
   "id": "835c1ae8-a6cf-42ea-ac8c-1d22e76e78a2",
   "metadata": {},
   "outputs": [],
   "source": []
  }
 ],
 "metadata": {
  "kernelspec": {
   "display_name": "Python 3 (ipykernel)",
   "language": "python",
   "name": "python3"
  },
  "language_info": {
   "codemirror_mode": {
    "name": "ipython",
    "version": 3
   },
   "file_extension": ".py",
   "mimetype": "text/x-python",
   "name": "python",
   "nbconvert_exporter": "python",
   "pygments_lexer": "ipython3",
   "version": "3.10.6"
  }
 },
 "nbformat": 4,
 "nbformat_minor": 5
}
